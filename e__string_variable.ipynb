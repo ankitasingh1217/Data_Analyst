{
 "cells": [
  {
   "cell_type": "markdown",
   "metadata": {},
   "source": [
    "## String variable\n",
    "If we store any string type ina variable then that will be kniwn as string variables."
   ]
  },
  {
   "cell_type": "code",
   "execution_count": 1,
   "metadata": {},
   "outputs": [],
   "source": [
    "#Define variables\n",
    "a='hello'\n",
    "b=\"welcome to python\"\n",
    "c='''Here you can do any job you want '''  "
   ]
  },
  {
   "cell_type": "code",
   "execution_count": 2,
   "metadata": {},
   "outputs": [
    {
     "name": "stdout",
     "output_type": "stream",
     "text": [
      "hello\n",
      "welcome to python\n",
      "Here you can do any job you want \n"
     ]
    }
   ],
   "source": [
    "#print variables\n",
    "print(a)\n",
    "print(b)\n",
    "print(c)"
   ]
  },
  {
   "cell_type": "markdown",
   "metadata": {},
   "source": [
    "Here there are three variables named as a,b and c. each are assigned with strings so all are string variables\n",
    "\n",
    "String variables are maintaining indexing property"
   ]
  },
  {
   "cell_type": "markdown",
   "metadata": {},
   "source": [
    "![title](images/string_indexing.png)"
   ]
  },
  {
   "cell_type": "markdown",
   "metadata": {},
   "source": [
    "### Operations in string"
   ]
  },
  {
   "cell_type": "code",
   "execution_count": 3,
   "metadata": {},
   "outputs": [],
   "source": [
    "#define a string variable\n",
    "var1 = 'Hello World'"
   ]
  },
  {
   "cell_type": "code",
   "execution_count": 4,
   "metadata": {},
   "outputs": [
    {
     "name": "stdout",
     "output_type": "stream",
     "text": [
      "11\n"
     ]
    }
   ],
   "source": [
    "#Get length of the string\n",
    "print(len(var1))"
   ]
  },
  {
   "cell_type": "code",
   "execution_count": 5,
   "metadata": {},
   "outputs": [
    {
     "name": "stdout",
     "output_type": "stream",
     "text": [
      "4\n"
     ]
    }
   ],
   "source": [
    "#Get the index of a alphabet\n",
    "print(var1.index(\"o\"))"
   ]
  },
  {
   "cell_type": "code",
   "execution_count": 6,
   "metadata": {},
   "outputs": [
    {
     "name": "stdout",
     "output_type": "stream",
     "text": [
      "3\n"
     ]
    }
   ],
   "source": [
    "#Count how many times a letter is repeted\n",
    "print(var1.count(\"l\"))"
   ]
  },
  {
   "cell_type": "code",
   "execution_count": 7,
   "metadata": {},
   "outputs": [
    {
     "name": "stdout",
     "output_type": "stream",
     "text": [
      "Hello World\n"
     ]
    }
   ],
   "source": [
    "#prints complete string\n",
    "print(var1)             "
   ]
  },
  {
   "cell_type": "code",
   "execution_count": 8,
   "metadata": {},
   "outputs": [
    {
     "name": "stdout",
     "output_type": "stream",
     "text": [
      "H\n"
     ]
    }
   ],
   "source": [
    "#prints first charecter of the string\n",
    "print(var1[0])          "
   ]
  },
  {
   "cell_type": "code",
   "execution_count": 9,
   "metadata": {},
   "outputs": [
    {
     "name": "stdout",
     "output_type": "stream",
     "text": [
      "llo\n"
     ]
    }
   ],
   "source": [
    "#prints charecters starting from 3rd to 5th\n",
    "print(var1[2:5])        "
   ]
  },
  {
   "cell_type": "code",
   "execution_count": 10,
   "metadata": {},
   "outputs": [
    {
     "name": "stdout",
     "output_type": "stream",
     "text": [
      "llo World\n"
     ]
    }
   ],
   "source": [
    "#prints string starting from 3rd to last\n",
    "print(var1[2:])         "
   ]
  },
  {
   "cell_type": "code",
   "execution_count": 11,
   "metadata": {},
   "outputs": [
    {
     "name": "stdout",
     "output_type": "stream",
     "text": [
      "lo W\n"
     ]
    }
   ],
   "source": [
    "#prints the characters of string from 3 to 7 skipping one character. \n",
    "#This is extended slice syntax. The general form is [start:stop:step].\n",
    "\n",
    "print(var1[3:7:1])"
   ]
  },
  {
   "cell_type": "code",
   "execution_count": 12,
   "metadata": {},
   "outputs": [
    {
     "name": "stdout",
     "output_type": "stream",
     "text": [
      "dlroW olleH\n"
     ]
    }
   ],
   "source": [
    "#reverse a string\n",
    "print(var1[::-1])"
   ]
  },
  {
   "cell_type": "code",
   "execution_count": 13,
   "metadata": {},
   "outputs": [
    {
     "name": "stdout",
     "output_type": "stream",
     "text": [
      "Hello WorldHello World\n"
     ]
    }
   ],
   "source": [
    "#prints the string two times\n",
    "print(var1 * 2)        "
   ]
  },
  {
   "cell_type": "code",
   "execution_count": 14,
   "metadata": {},
   "outputs": [
    {
     "name": "stdout",
     "output_type": "stream",
     "text": [
      "Hello World Test\n"
     ]
    }
   ],
   "source": [
    "#prints concatenated string\n",
    "print(var1 + \" Test\")    "
   ]
  },
  {
   "cell_type": "markdown",
   "metadata": {},
   "source": [
    "## String Formatting\n",
    "\n",
    "Suppose you want to add a variable value to your string on a perticular place, In that case you can use string formatting"
   ]
  },
  {
   "cell_type": "code",
   "execution_count": 15,
   "metadata": {},
   "outputs": [
    {
     "data": {
      "text/plain": [
       "'Hi jag, Welcome to Python'"
      ]
     },
     "execution_count": 15,
     "metadata": {},
     "output_type": "execute_result"
    }
   ],
   "source": [
    "#define a variable\n",
    "name = \"jag\"\n",
    "#add name to the string\n",
    "\"Hi {}, Welcome to Python\".format(name)"
   ]
  },
  {
   "cell_type": "code",
   "execution_count": 16,
   "metadata": {},
   "outputs": [
    {
     "data": {
      "text/plain": [
       "'Hi jag, Welcome to Python'"
      ]
     },
     "execution_count": 16,
     "metadata": {},
     "output_type": "execute_result"
    }
   ],
   "source": [
    "#you can also use formatted string\n",
    "f\"Hi {name}, Welcome to Python\""
   ]
  },
  {
   "cell_type": "code",
   "execution_count": 17,
   "metadata": {},
   "outputs": [
    {
     "name": "stdout",
     "output_type": "stream",
     "text": [
      "I like Python and Java\n"
     ]
    }
   ],
   "source": [
    "#Format using index\n",
    "print(\"I like {1} and {0}\".format(\"Java\", \"Python\"))"
   ]
  },
  {
   "cell_type": "code",
   "execution_count": 18,
   "metadata": {},
   "outputs": [
    {
     "name": "stdout",
     "output_type": "stream",
     "text": [
      "I like Python and Java\n",
      "I like Java and Python\n"
     ]
    }
   ],
   "source": [
    "# unpacking from sequences\n",
    "t = (\"Java\", \"Python\")\n",
    "print(\"I like {1} and {0}\".format(*t))\n",
    "\n",
    "l = [\"Java\", \"Python\"]\n",
    "print(\"I like {} and {}\".format(*t))"
   ]
  },
  {
   "cell_type": "code",
   "execution_count": 19,
   "metadata": {},
   "outputs": [
    {
     "name": "stdout",
     "output_type": "stream",
     "text": [
      "Tim Cook is the CEO of Apple Inc.\n"
     ]
    }
   ],
   "source": [
    "#Keyword arguments\n",
    "print(\"{name} is the {job} of {company}\".format(name='Tim Cook', job='CEO', company='Apple Inc.'))"
   ]
  },
  {
   "cell_type": "code",
   "execution_count": 20,
   "metadata": {},
   "outputs": [
    {
     "name": "stdout",
     "output_type": "stream",
     "text": [
      "Apple Inc. CEO is Tim Cook\n"
     ]
    }
   ],
   "source": [
    "#Dictionary as Keyword arguments\n",
    "d = {\"name\": \"Tim Cook\", \"job\": \"CEO\", \"company\": \"Apple Inc.\"}\n",
    "print(\"{company} {job} is {name}\".format(**d))"
   ]
  },
  {
   "cell_type": "code",
   "execution_count": 21,
   "metadata": {},
   "outputs": [
    {
     "name": "stdout",
     "output_type": "stream",
     "text": [
      "int: 28;  hex: 1c;  oct: 34;  bin: 11100\n"
     ]
    }
   ],
   "source": [
    "#integer to different bases\n",
    "print(\"int: {0:d};  hex: {0:x};  oct: {0:o};  bin: {0:b}\".format(28))"
   ]
  },
  {
   "cell_type": "code",
   "execution_count": 22,
   "metadata": {},
   "outputs": [
    {
     "name": "stdout",
     "output_type": "stream",
     "text": [
      "1,234,567,890\n"
     ]
    }
   ],
   "source": [
    "#separating number with comma\n",
    "print('{:,}'.format(1234567890))"
   ]
  },
  {
   "cell_type": "code",
   "execution_count": 23,
   "metadata": {},
   "outputs": [
    {
     "name": "stdout",
     "output_type": "stream",
     "text": [
      "Percentage: 67.857%\n",
      "   2.34\n",
      "  22222.35\n"
     ]
    }
   ],
   "source": [
    "#Percentage, Padding and Rounding\n",
    "print('Percentage: {:.3%}'.format(19 / 28))\n",
    "print('{0:7.2f}'.format(2.344))\n",
    "print('{0:10.2f}'.format(22222.346))"
   ]
  },
  {
   "cell_type": "code",
   "execution_count": 24,
   "metadata": {},
   "outputs": [
    {
     "data": {
      "text/plain": [
       "'jag'"
      ]
     },
     "execution_count": 24,
     "metadata": {},
     "output_type": "execute_result"
    }
   ],
   "source": [
    "#get the string in lower case\n",
    "name.lower()"
   ]
  },
  {
   "cell_type": "code",
   "execution_count": 25,
   "metadata": {},
   "outputs": [
    {
     "data": {
      "text/plain": [
       "'Jag'"
      ]
     },
     "execution_count": 25,
     "metadata": {},
     "output_type": "execute_result"
    }
   ],
   "source": [
    "#Get the string as a title\n",
    "name.title()"
   ]
  },
  {
   "cell_type": "code",
   "execution_count": 26,
   "metadata": {},
   "outputs": [
    {
     "data": {
      "text/plain": [
       "'JAG'"
      ]
     },
     "execution_count": 26,
     "metadata": {},
     "output_type": "execute_result"
    }
   ],
   "source": [
    "#get the string in Upper case\n",
    "name.upper()"
   ]
  },
  {
   "cell_type": "code",
   "execution_count": 27,
   "metadata": {},
   "outputs": [
    {
     "name": "stdout",
     "output_type": "stream",
     "text": [
      "True\n"
     ]
    }
   ],
   "source": [
    "#Check if starts with some letters\n",
    "print(var1.startswith(\"Hello\"))"
   ]
  },
  {
   "cell_type": "code",
   "execution_count": 28,
   "metadata": {},
   "outputs": [
    {
     "name": "stdout",
     "output_type": "stream",
     "text": [
      "False\n"
     ]
    }
   ],
   "source": [
    "##Check if ends with some letters\n",
    "print(var1.endswith(\"asdfasdfasdf\"))"
   ]
  },
  {
   "cell_type": "code",
   "execution_count": 29,
   "metadata": {},
   "outputs": [
    {
     "data": {
      "text/plain": [
       "True"
      ]
     },
     "execution_count": 29,
     "metadata": {},
     "output_type": "execute_result"
    }
   ],
   "source": [
    "#check if string have some letters\n",
    "\"ell\" in var1"
   ]
  },
  {
   "cell_type": "code",
   "execution_count": 30,
   "metadata": {},
   "outputs": [
    {
     "data": {
      "text/plain": [
       "['Hello', 'World']"
      ]
     },
     "execution_count": 30,
     "metadata": {},
     "output_type": "execute_result"
    }
   ],
   "source": [
    "#split a string\n",
    "var1.split(\" \") #Here we are spliting with space"
   ]
  },
  {
   "cell_type": "markdown",
   "metadata": {},
   "source": [
    "## String Templating\n",
    "\n",
    "In String module, Template Class allows us to create simplified syntax for output specification. The format uses placeholder names formed by \\\\$ with valid Python identifiers (alphanumeric characters and underscores). Surrounding the placeholder with braces allows it to be followed by more alphanumeric letters with no intervening spaces. Writing $$ creates a single escaped $:"
   ]
  },
  {
   "cell_type": "code",
   "execution_count": 31,
   "metadata": {},
   "outputs": [],
   "source": [
    "#import Template\n",
    "from string import Template "
   ]
  },
  {
   "cell_type": "code",
   "execution_count": 32,
   "metadata": {},
   "outputs": [],
   "source": [
    "# Create a template that has placeholder for value of x \n",
    "t = Template('$name is the $job of $company')"
   ]
  },
  {
   "cell_type": "code",
   "execution_count": 33,
   "metadata": {},
   "outputs": [
    {
     "name": "stdout",
     "output_type": "stream",
     "text": [
      "Template String = $name is the $job of $company\n"
     ]
    }
   ],
   "source": [
    "#print the template\n",
    "print('Template String =', t.template)"
   ]
  },
  {
   "cell_type": "code",
   "execution_count": 34,
   "metadata": {},
   "outputs": [
    {
     "name": "stdout",
     "output_type": "stream",
     "text": [
      "Tim Cook is the CEO of Apple Inc.\n"
     ]
    }
   ],
   "source": [
    "# Substitute value of x in above template \n",
    "out_string = t.substitute(name='Tim Cook', job='CEO', company='Apple Inc.')\n",
    "print(out_string)"
   ]
  },
  {
   "cell_type": "code",
   "execution_count": 35,
   "metadata": {},
   "outputs": [
    {
     "name": "stdout",
     "output_type": "stream",
     "text": [
      "Tim Cook is the CEO of Apple Inc.\n"
     ]
    }
   ],
   "source": [
    "# dictionary as substitute argument\n",
    "d = {\"name\": \"Tim Cook\", \"job\": \"CEO\", \"company\": \"Apple Inc.\"}\n",
    "s = t.substitute(**d)\n",
    "print(s)"
   ]
  },
  {
   "cell_type": "code",
   "execution_count": 36,
   "metadata": {},
   "outputs": [
    {
     "name": "stdout",
     "output_type": "stream",
     "text": [
      "Tim Cook is the CEO of $company\n"
     ]
    }
   ],
   "source": [
    "#Safe_substitute for passing parameters less than required\n",
    "s = t.safe_substitute(name='Tim Cook', job='CEO')\n",
    "print(s)"
   ]
  },
  {
   "cell_type": "code",
   "execution_count": null,
   "metadata": {},
   "outputs": [],
   "source": []
  }
 ],
 "metadata": {
  "kernelspec": {
   "display_name": "Python 3",
   "language": "python",
   "name": "python3"
  },
  "language_info": {
   "codemirror_mode": {
    "name": "ipython",
    "version": 3
   },
   "file_extension": ".py",
   "mimetype": "text/x-python",
   "name": "python",
   "nbconvert_exporter": "python",
   "pygments_lexer": "ipython3",
   "version": "3.6.5"
  }
 },
 "nbformat": 4,
 "nbformat_minor": 4
}
