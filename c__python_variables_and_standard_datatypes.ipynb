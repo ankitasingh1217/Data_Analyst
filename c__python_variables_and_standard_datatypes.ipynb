{
 "cells": [
  {
   "cell_type": "markdown",
   "metadata": {},
   "source": [
    "## Python Variables\n",
    "\n",
    "For living we all need a house, and every house is located at a certein location. Like as to store any value in computer there is a variable and variable have a certein location in memory.\n",
    "\n",
    "From first slide you can see that the memory has a location and a name that target to that location that is the variable name(Ideantifier)"
   ]
  },
  {
   "cell_type": "code",
   "execution_count": 1,
   "metadata": {},
   "outputs": [],
   "source": [
    "#Assigning value to variable.\n",
    "a=5\n",
    "    "
   ]
  },
  {
   "cell_type": "markdown",
   "metadata": {},
   "source": [
    "Here 'a is the varizble name and using the assignment operator '=' we are assigning 5 to a"
   ]
  },
  {
   "cell_type": "code",
   "execution_count": 2,
   "metadata": {},
   "outputs": [
    {
     "name": "stdout",
     "output_type": "stream",
     "text": [
      "0 0 0\n",
      "5 10.56 smile\n"
     ]
    }
   ],
   "source": [
    "#Multiple assignment\n",
    "\n",
    "#single value\n",
    "a=b=c=0\n",
    "print(a,b,c)\n",
    "\n",
    "#multiple value\n",
    "x,y,z = 5,10.56,'smile'\n",
    "print(x,y,z)"
   ]
  },
  {
   "cell_type": "markdown",
   "metadata": {},
   "source": [
    "## Python Standard Datatypes\n",
    "stadard datatypes are the types of data which we can store in python variables\n",
    "\n",
    "python mainly have 5 types of standard datatypes\n",
    "\n",
    "- Number\n",
    "- String\n",
    "- List\n",
    "- Tupuls\n",
    "- Dictionary"
   ]
  },
  {
   "cell_type": "code",
   "execution_count": null,
   "metadata": {},
   "outputs": [],
   "source": []
  }
 ],
 "metadata": {
  "kernelspec": {
   "display_name": "Python 3",
   "language": "python",
   "name": "python3"
  },
  "language_info": {
   "codemirror_mode": {
    "name": "ipython",
    "version": 3
   },
   "file_extension": ".py",
   "mimetype": "text/x-python",
   "name": "python",
   "nbconvert_exporter": "python",
   "pygments_lexer": "ipython3",
   "version": "3.6.5"
  }
 },
 "nbformat": 4,
 "nbformat_minor": 4
}
