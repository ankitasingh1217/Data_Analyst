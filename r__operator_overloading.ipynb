{
 "cells": [
  {
   "cell_type": "markdown",
   "metadata": {},
   "source": [
    "# operator overloading\n",
    "\n",
    "Python operators work for built-in classes. But same operator behaves differently with different types. For example, the + operator will, perform arithmetic addition on two numbers, merge two lists and concatenate two strings.\n",
    "\n",
    "This feature in Python, that allows same operator to have different meaning according to the context is called operator overloading.\n",
    "\n",
    "So what happens when we use them with objects of a user-defined class? \n",
    "Let us consider the following class, which tries to simulate a point in 2-D coordinate system."
   ]
  },
  {
   "cell_type": "code",
   "execution_count": 1,
   "metadata": {},
   "outputs": [],
   "source": [
    "#Define the point class\n",
    "class Point:\n",
    "    def __init__(self, x = 0, y = 0):\n",
    "        self.x = x\n",
    "        self.y = y"
   ]
  },
  {
   "cell_type": "code",
   "execution_count": 2,
   "metadata": {},
   "outputs": [],
   "source": [
    "#define two instances\n",
    "p1 = Point(2,3)\n",
    "p2 = Point(-1,2)"
   ]
  },
  {
   "cell_type": "code",
   "execution_count": 3,
   "metadata": {},
   "outputs": [
    {
     "ename": "TypeError",
     "evalue": "unsupported operand type(s) for +: 'Point' and 'Point'",
     "output_type": "error",
     "traceback": [
      "\u001b[1;31m---------------------------------------------------------------------------\u001b[0m",
      "\u001b[1;31mTypeError\u001b[0m                                 Traceback (most recent call last)",
      "\u001b[1;32m<ipython-input-3-04aac510d73c>\u001b[0m in \u001b[0;36m<module>\u001b[1;34m\u001b[0m\n\u001b[0;32m      1\u001b[0m \u001b[1;31m#Try to perform the operation\u001b[0m\u001b[1;33m\u001b[0m\u001b[1;33m\u001b[0m\u001b[0m\n\u001b[1;32m----> 2\u001b[1;33m \u001b[0mp1\u001b[0m\u001b[1;33m+\u001b[0m\u001b[0mp2\u001b[0m\u001b[1;33m\u001b[0m\u001b[0m\n\u001b[0m",
      "\u001b[1;31mTypeError\u001b[0m: unsupported operand type(s) for +: 'Point' and 'Point'"
     ]
    }
   ],
   "source": [
    "#Try to perform the operation\n",
    "p1+p2"
   ]
  },
  {
   "cell_type": "markdown",
   "metadata": {},
   "source": [
    "## overloading the + operator\n",
    "To overload the + sign, we will need to implement \\__add__() function in the class. With great power comes great responsibility. We can do whatever we like, inside this function. But it is sensible to return a Point object of the coordinate sum."
   ]
  },
  {
   "cell_type": "code",
   "execution_count": 4,
   "metadata": {},
   "outputs": [],
   "source": [
    "class Point:\n",
    "    def __init__(self, x = 0, y = 0):\n",
    "        self.x = x\n",
    "        self.y = y\n",
    "    \n",
    "    def __str__(self):\n",
    "        return \"({0},{1})\".format(self.x,self.y)\n",
    "    \n",
    "    def __add__(self,other):\n",
    "        x = self.x + other.x\n",
    "        y = self.y + other.y\n",
    "        return Point(x,y)"
   ]
  },
  {
   "cell_type": "code",
   "execution_count": 5,
   "metadata": {},
   "outputs": [],
   "source": [
    "#define two instances\n",
    "p1 = Point(2,3)\n",
    "p2 = Point(-1,2)"
   ]
  },
  {
   "cell_type": "code",
   "execution_count": 6,
   "metadata": {},
   "outputs": [
    {
     "name": "stdout",
     "output_type": "stream",
     "text": [
      "(1,5)\n"
     ]
    }
   ],
   "source": [
    "#Try to perform the operation\n",
    "p3 = p1+p2\n",
    "print(p3)"
   ]
  },
  {
   "cell_type": "markdown",
   "metadata": {},
   "source": [
    "What actually happens is that, when you do p1 + p2, Python will call p1.\\__add__(p2) which in turn is Point.\\__add__(p1,p2). Similarly, we can overload other operators as well. The special function that we need to implement is tabulated below."
   ]
  },
  {
   "cell_type": "markdown",
   "metadata": {},
   "source": [
    " <table border=\"1\" style=\"width:50%; text-align: left; font-size:15px;border: 1px solid black;\">\n",
    "\t<caption>Operator Overloading Special Functions in Python</caption>\n",
    "\t<tbody>\n",
    "\t\t<tr>\n",
    "\t\t\t<th>Operator</th>\n",
    "\t\t\t<th>Expression</th>\n",
    "\t\t\t<th>Internally</th>\n",
    "\t\t</tr>\n",
    "\t\t<tr>\n",
    "\t\t\t<td>Addition</td>\n",
    "\t\t\t<td>p1 + p2</td>\n",
    "\t\t\t<td>p1.__add__(p2)</td>\n",
    "\t\t</tr>\n",
    "\t\t<tr>\n",
    "\t\t\t<td>Subtraction</td>\n",
    "\t\t\t<td>p1 - p2</td>\n",
    "\t\t\t<td>p1.__sub__(p2)</td>\n",
    "\t\t</tr>\n",
    "\t\t<tr>\n",
    "\t\t\t<td>Multiplication</td>\n",
    "\t\t\t<td>p1 * p2</td>\n",
    "\t\t\t<td>p1.__mul__(p2)</td>\n",
    "\t\t</tr>\n",
    "\t\t<tr>\n",
    "\t\t\t<td>Power</td>\n",
    "\t\t\t<td>p1 ** p2</td>\n",
    "\t\t\t<td>p1.__pow__(p2)</td>\n",
    "\t\t</tr>\n",
    "\t\t<tr>\n",
    "\t\t\t<td>Division</td>\n",
    "\t\t\t<td>p1 / p2</td>\n",
    "\t\t\t<td>p1.__truediv__(p2)</td>\n",
    "\t\t</tr>\n",
    "\t\t<tr>\n",
    "\t\t\t<td>Floor Division</td>\n",
    "\t\t\t<td>p1 // p2</td>\n",
    "\t\t\t<td>p1.__floordiv__(p2)</td>\n",
    "\t\t</tr>\n",
    "\t\t<tr>\n",
    "\t\t\t<td>Remainder (modulo)</td>\n",
    "\t\t\t<td>p1 % p2</td>\n",
    "\t\t\t<td>p1.__mod__(p2)</td>\n",
    "\t\t</tr>\n",
    "\t\t<tr>\n",
    "\t\t\t<td>Bitwise Left Shift</td>\n",
    "\t\t\t<td>p1 &lt;&lt; p2</td>\n",
    "\t\t\t<td>p1.__lshift__(p2)</td>\n",
    "\t\t</tr>\n",
    "\t\t<tr>\n",
    "\t\t\t<td>Bitwise Right Shift</td>\n",
    "\t\t\t<td>p1 &gt;&gt; p2</td>\n",
    "\t\t\t<td>p1.__rshift__(p2)</td>\n",
    "\t\t</tr>\n",
    "\t\t<tr>\n",
    "\t\t\t<td>Bitwise AND</td>\n",
    "\t\t\t<td>p1 &amp; p2</td>\n",
    "\t\t\t<td>p1.__and__(p2)</td>\n",
    "\t\t</tr>\n",
    "\t\t<tr>\n",
    "\t\t\t<td>Bitwise OR</td>\n",
    "\t\t\t<td>p1 | p2</td>\n",
    "\t\t\t<td>p1.__or__(p2)</td>\n",
    "\t\t</tr>\n",
    "\t\t<tr>\n",
    "\t\t\t<td>Bitwise XOR</td>\n",
    "\t\t\t<td>p1 ^ p2</td>\n",
    "\t\t\t<td>p1.__xor__(p2)</td>\n",
    "\t\t</tr>\n",
    "\t\t<tr>\n",
    "\t\t\t<td>Bitwise NOT</td>\n",
    "\t\t\t<td>~p1</td>\n",
    "\t\t\t<td>p1.__invert__()</td>\n",
    "\t\t</tr>\n",
    "\t</tbody>\n",
    "</table>\n",
    "\n",
    "\n",
    "<table border=\"1\" summary=\"Comparison Operator Overloading in Python\" style=\"width:50%; text-align: center; font-size:15px;border: 1px solid black;\">\n",
    "\t<caption>Comparision Operator Overloading in Python</caption>\n",
    "\t<tbody>\n",
    "\t\t<tr>\n",
    "\t\t\t<th scope=\"col\" width=\"187\">Operator</th>\n",
    "\t\t\t<th scope=\"col\" width=\"135\">Expression</th>\n",
    "\t\t\t<th scope=\"col\" width=\"156\">Internally</th>\n",
    "\t\t</tr>\n",
    "\t\t<tr>\n",
    "\t\t\t<td>Less than</td>\n",
    "\t\t\t<td>p1 &lt; p2</td>\n",
    "\t\t\t<td>p1.__lt__(p2)</td>\n",
    "\t\t</tr>\n",
    "\t\t<tr>\n",
    "\t\t\t<td>Less than or equal to</td>\n",
    "\t\t\t<td>p1 &lt;= p2</td>\n",
    "\t\t\t<td>p1.__le__(p2)</td>\n",
    "\t\t</tr>\n",
    "\t\t<tr>\n",
    "\t\t\t<td>\n",
    "\t\t\t\tEqual to\n",
    "\t\t\t</td>\n",
    "\t\t\t<td>p1 == p2</td>\n",
    "\t\t\t<td>p1.__eq__(p2)</td>\n",
    "\t\t</tr>\n",
    "\t\t<tr>\n",
    "\t\t\t<td>Not equal to</td>\n",
    "\t\t\t<td>p1 != p2</td>\n",
    "\t\t\t<td>p1.__ne__(p2)</td>\n",
    "\t\t</tr>\n",
    "\t\t<tr>\n",
    "\t\t\t<td>Greater than</td>\n",
    "\t\t\t<td>p1 &gt; p2</td>\n",
    "\t\t\t<td>p1.__gt__(p2)</td>\n",
    "\t\t</tr>\n",
    "\t\t<tr>\n",
    "\t\t\t<td>Greater than or equal to</td>\n",
    "\t\t\t<td>p1 &gt;= p2</td>\n",
    "\t\t\t<td>p1.__ge__(p2)</td>\n",
    "\t\t</tr>\n",
    "\t</tbody>\n",
    "</table>"
   ]
  },
  {
   "cell_type": "code",
   "execution_count": null,
   "metadata": {},
   "outputs": [],
   "source": []
  }
 ],
 "metadata": {
  "kernelspec": {
   "display_name": "Python 3",
   "language": "python",
   "name": "python3"
  },
  "language_info": {
   "codemirror_mode": {
    "name": "ipython",
    "version": 3
   },
   "file_extension": ".py",
   "mimetype": "text/x-python",
   "name": "python",
   "nbconvert_exporter": "python",
   "pygments_lexer": "ipython3",
   "version": "3.6.5"
  }
 },
 "nbformat": 4,
 "nbformat_minor": 4
}
