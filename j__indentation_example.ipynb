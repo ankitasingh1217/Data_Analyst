{
 "cells": [
  {
   "cell_type": "markdown",
   "metadata": {},
   "source": [
    "## Indentation\n",
    "The best part of python is to not having scope brackets like other another programming languages . so what you think how python is managing the scopes?\n",
    "well python know the scope from the code indentation lets discuss with an example"
   ]
  },
  {
   "cell_type": "code",
   "execution_count": 1,
   "metadata": {},
   "outputs": [
    {
     "name": "stdout",
     "output_type": "stream",
     "text": [
      "welcome\n",
      "your condition is true\n",
      "this is inside the if statement\n",
      "Wow this is outside if statement\n"
     ]
    }
   ],
   "source": [
    "print(\"welcome\")\n",
    "if True:\n",
    "    print(\"your condition is true\")\n",
    "    print(\"this is inside the if statement\")\n",
    "print(\"Wow this is outside if statement\")"
   ]
  },
  {
   "cell_type": "markdown",
   "metadata": {},
   "source": [
    "Such a clean program, Isn't it?\n",
    "well lets understand from the code, The first line is in the main line without any spaces if statement is also in main line without any space, but the next two statements print(\"your condition is true\") print(\"this is inside the if statement\") these are having some space distance from the starting to the if statements so these are inside the if statement\n",
    "And the last print statement is having no spaces to the starting so its not inside the if statement.\n",
    "I think we get the point of indentation but look at the if statement line there is a ( : ) what is that?\n",
    "welll this is known as scope operator it indicate that starting the scope of the if statement so cool is this :)"
   ]
  },
  {
   "cell_type": "code",
   "execution_count": null,
   "metadata": {},
   "outputs": [],
   "source": []
  }
 ],
 "metadata": {
  "kernelspec": {
   "display_name": "Python 3",
   "language": "python",
   "name": "python3"
  },
  "language_info": {
   "codemirror_mode": {
    "name": "ipython",
    "version": 3
   },
   "file_extension": ".py",
   "mimetype": "text/x-python",
   "name": "python",
   "nbconvert_exporter": "python",
   "pygments_lexer": "ipython3",
   "version": "3.6.5"
  }
 },
 "nbformat": 4,
 "nbformat_minor": 4
}
