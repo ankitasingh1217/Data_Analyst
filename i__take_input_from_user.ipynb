{
 "cells": [
  {
   "cell_type": "markdown",
   "metadata": {},
   "source": [
    "## Taking input fromm the user\n",
    "To make a program interacting with the user we should take the user input and work according to that, you can think of a example that you are using an calculator then you have to take the inputs like the numbers and the operator these all are going to given by the input after that you are going to show the output.\n",
    "\n",
    "python have its own function named input() which takes the input and return the value"
   ]
  },
  {
   "cell_type": "code",
   "execution_count": 1,
   "metadata": {},
   "outputs": [
    {
     "name": "stdout",
     "output_type": "stream",
     "text": [
      "Enter your name : jag\n"
     ]
    },
    {
     "data": {
      "text/plain": [
       "'Welcome Jag, Hope you are doing good'"
      ]
     },
     "execution_count": 1,
     "metadata": {},
     "output_type": "execute_result"
    }
   ],
   "source": [
    "name=input(\"Enter your name : \")\n",
    "\n",
    "f\"Welcome {name.title()}, Hope you are doing good\""
   ]
  },
  {
   "cell_type": "code",
   "execution_count": null,
   "metadata": {},
   "outputs": [],
   "source": []
  }
 ],
 "metadata": {
  "kernelspec": {
   "display_name": "Python 3",
   "language": "python",
   "name": "python3"
  },
  "language_info": {
   "codemirror_mode": {
    "name": "ipython",
    "version": 3
   },
   "file_extension": ".py",
   "mimetype": "text/x-python",
   "name": "python",
   "nbconvert_exporter": "python",
   "pygments_lexer": "ipython3",
   "version": "3.6.5"
  }
 },
 "nbformat": 4,
 "nbformat_minor": 4
}
