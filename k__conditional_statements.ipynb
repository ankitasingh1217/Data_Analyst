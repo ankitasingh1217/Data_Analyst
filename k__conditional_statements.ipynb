{
 "cells": [
  {
   "cell_type": "markdown",
   "metadata": {},
   "source": [
    "# Conditional Statements\n",
    "\n",
    "Conditional statements gives us the ability to check condition and work accordingly. you can think that deciding to go to school if its not a rainyday. so how do you take the decission\n",
    "First you will check if its a rainyday or not if its not then you will go tho school.\n",
    "That also the same for the conditional statements its provides us the decission making ability.\n",
    "\n",
    "Types of conditional statements:-\n",
    "- if statement\n",
    "- if else statement\n",
    "- elif statement\n",
    "\n",
    "\n",
    "### if statement:\n",
    "An if statement is a programming conditional statement that, if proved true, performs a function or displays information.\n",
    "We can think of this with our example that if it is a sunny day then you will go to school. you have no dependency the else part. Lets take an example."
   ]
  },
  {
   "cell_type": "code",
   "execution_count": 1,
   "metadata": {},
   "outputs": [
    {
     "name": "stdout",
     "output_type": "stream",
     "text": [
      "Enter weather condition as sunny or rainy : sunny\n"
     ]
    }
   ],
   "source": [
    "#Get the weather condition\n",
    "weather = input(\"Enter weather condition as sunny or rainy : \")"
   ]
  },
  {
   "cell_type": "code",
   "execution_count": 2,
   "metadata": {},
   "outputs": [
    {
     "name": "stdout",
     "output_type": "stream",
     "text": [
      "Go to School\n"
     ]
    }
   ],
   "source": [
    "#Check the condition and do the operation\n",
    "if weather == \"sunny\":\n",
    "    print(\"Go to School\")\n",
    "        "
   ]
  },
  {
   "cell_type": "markdown",
   "metadata": {},
   "source": [
    "### if else statement:\n",
    "\n",
    "An else statement can be combined with an if statement. An else statement contains the block of code that executes if the conditional expression in the if statement resolves to 0 or a FALSE value. The else statement is an optional statement and there could be at most only one else statement following if.\n",
    "\n",
    "We can imagin our example as, if it is a sunny day then you will go to school else you will play video game."
   ]
  },
  {
   "cell_type": "code",
   "execution_count": 3,
   "metadata": {
    "scrolled": true
   },
   "outputs": [
    {
     "name": "stdout",
     "output_type": "stream",
     "text": [
      "Enter weather condition as sunny or rainy : rainy\n"
     ]
    }
   ],
   "source": [
    "#Get the weather condition\n",
    "weather = input(\"Enter weather condition as sunny or rainy : \")"
   ]
  },
  {
   "cell_type": "code",
   "execution_count": 4,
   "metadata": {},
   "outputs": [
    {
     "name": "stdout",
     "output_type": "stream",
     "text": [
      "Play Video Game\n"
     ]
    }
   ],
   "source": [
    "if weather == \"sunny\":\n",
    "    print(\"Go to School\")\n",
    "else:\n",
    "    print(\"Play Video Game\")"
   ]
  },
  {
   "cell_type": "markdown",
   "metadata": {},
   "source": [
    "### elif statement:\n",
    "\n",
    "The elif statement allows you to check multiple expressions for TRUE and execute a block of code as soon as one of the conditions evaluates to TRUE. Similar to the else, the elif statement is optional.\n",
    "\n",
    "We can extend our example with more conditions like below:\n",
    "- if weather is sunny then go to school\n",
    "- if weather is slightly rainy then take umbrella and go to school\n",
    "- if weather is heavily rainy then play video game at home"
   ]
  },
  {
   "cell_type": "code",
   "execution_count": 5,
   "metadata": {
    "scrolled": true
   },
   "outputs": [
    {
     "name": "stdout",
     "output_type": "stream",
     "text": [
      "Enter weather condition as sunny or slightly rainy or heavily rainy : slightly rainy\n"
     ]
    }
   ],
   "source": [
    "#Get the weather condition\n",
    "weather = input(\"Enter weather condition as sunny or slightly rainy or heavily rainy : \")"
   ]
  },
  {
   "cell_type": "code",
   "execution_count": 6,
   "metadata": {},
   "outputs": [
    {
     "name": "stdout",
     "output_type": "stream",
     "text": [
      "Take umbrella and go to school\n"
     ]
    }
   ],
   "source": [
    "if weather == \"sunny\":\n",
    "    print(\"Go to School\")\n",
    "elif weather == \"slightly rainy\":\n",
    "    print(\"Take umbrella and go to school\")\n",
    "else:\n",
    "     print(\"Play Video Game at home\")"
   ]
  },
  {
   "cell_type": "markdown",
   "metadata": {},
   "source": [
    "  ## A funny game\n",
    "  \n",
    "Its a fun game which will take the first letter of your name and say you about your last life. "
   ]
  },
  {
   "cell_type": "code",
   "execution_count": 7,
   "metadata": {},
   "outputs": [
    {
     "name": "stdout",
     "output_type": "stream",
     "text": [
      "Enter your name : jag\n"
     ]
    }
   ],
   "source": [
    "#Take Name from user\n",
    "name = input(\"Enter your name : \")"
   ]
  },
  {
   "cell_type": "code",
   "execution_count": 8,
   "metadata": {},
   "outputs": [
    {
     "name": "stdout",
     "output_type": "stream",
     "text": [
      "In last birth you were a dog\n"
     ]
    }
   ],
   "source": [
    "#Checking the first letter is a,b,c,d,e,f,g,h,i\n",
    "if name[0] in \"abcdefghi\":\n",
    "    print(\"In last life you were a cat\")\n",
    "    \n",
    "#Checking the first letter is j,k,l,m,n,o,p\n",
    "elif name[0] in \"jklmnop\":\n",
    "    print(\"In last birth you were a dog\")\n",
    "    \n",
    "#Checking the first letter is q,r,s\n",
    "elif name[0] in \"qrs\":\n",
    "    print(\"In last birth you were a monkey\")\n",
    "#default\n",
    "else:\n",
    "    print(\"In last birth you were a human\")"
   ]
  },
  {
   "cell_type": "code",
   "execution_count": null,
   "metadata": {},
   "outputs": [],
   "source": []
  }
 ],
 "metadata": {
  "kernelspec": {
   "display_name": "Python 3",
   "language": "python",
   "name": "python3"
  },
  "language_info": {
   "codemirror_mode": {
    "name": "ipython",
    "version": 3
   },
   "file_extension": ".py",
   "mimetype": "text/x-python",
   "name": "python",
   "nbconvert_exporter": "python",
   "pygments_lexer": "ipython3",
   "version": "3.6.5"
  }
 },
 "nbformat": 4,
 "nbformat_minor": 4
}
